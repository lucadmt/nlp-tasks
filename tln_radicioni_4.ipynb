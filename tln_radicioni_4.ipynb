{
 "metadata": {
  "language_info": {
   "codemirror_mode": {
    "name": "ipython",
    "version": 3
   },
   "file_extension": ".py",
   "mimetype": "text/x-python",
   "name": "python",
   "nbconvert_exporter": "python",
   "pygments_lexer": "ipython3",
   "version": "3.9.6-final"
  },
  "orig_nbformat": 2,
  "kernelspec": {
   "name": "python39664bitf9365f4bd6c94cd0b30113d0555f72e7",
   "display_name": "Python 3.9.6 64-bit"
  }
 },
 "nbformat": 4,
 "nbformat_minor": 2,
 "cells": [
  {
   "cell_type": "code",
   "execution_count": 8,
   "metadata": {},
   "outputs": [],
   "source": [
    "# This block was stripped (and adapted) from \"semeval_mapper.ipynb\"\n",
    "import hashlib\n",
    "import matplotlib.pyplot as plt\n",
    "\n",
    "def get_range():\n",
    "    nof_elements = 500\n",
    "    base_idx = (abs(int(hashlib.sha512(\"D'Amato\".encode('utf-8')).hexdigest(), 16)) % 10)\n",
    "    idx_intervallo = base_idx * 50+1\n",
    "    return (idx_intervallo, idx_intervallo+50-1)"
   ]
  },
  {
   "cell_type": "code",
   "execution_count": 9,
   "metadata": {},
   "outputs": [
    {
     "output_type": "execute_result",
     "data": {
      "text/plain": [
       "(301, 350)"
      ]
     },
     "metadata": {},
     "execution_count": 9
    }
   ],
   "source": [
    "get_range()"
   ]
  },
  {
   "source": [
    "### Consegna 1: annotazione\n",
    "si veda ./data/damato_semeval.tsv"
   ],
   "cell_type": "markdown",
   "metadata": {}
  },
  {
   "source": [
    "### Consegna 1: valutazione"
   ],
   "cell_type": "markdown",
   "metadata": {}
  },
  {
   "cell_type": "code",
   "execution_count": 10,
   "metadata": {},
   "outputs": [],
   "source": [
    "#from sklearn.feature_extraction.text import TfidfVectorizer\n",
    "import numpy as np\n",
    "import pandas as pd\n",
    "from operator import add\n",
    "import common.utils as utils\n",
    "from itertools import product\n",
    "import common.prettyprint as pp\n",
    "from scipy.stats.stats import pearsonr, spearmanr\n",
    "from sklearn.metrics.pairwise import cosine_similarity\n",
    "from sklearn.metrics import cohen_kappa_score, accuracy_score"
   ]
  },
  {
   "source": [
    "La seguente funzione parte da una stringa, la divide in campi di testo (dividendo su `'\\n'`) e restituisce una tupla `(campo_0, campi[1:])`. Questo serve a rendere il risultato, compatibile per essere trasformato in un dizionario."
   ],
   "cell_type": "markdown",
   "metadata": {}
  },
  {
   "cell_type": "code",
   "execution_count": 11,
   "metadata": {},
   "outputs": [],
   "source": [
    "def dictify(string):\n",
    "    result = string.split('\\n')\n",
    "    return (result[0], result[1:])"
   ]
  },
  {
   "source": [
    "In modo simile alla precedente, questa funzione serve per rendere la rappresentazione a stringhe compatibile con un Pandas DataFrame. I dati originali sono fatti così: `bnid__term [floats]`. Per renderlo compatibile, divide il primo campo su `'__'` (in modo da ottenerne due: l'id e il termine) e copia il resto del vettore così come sta."
   ],
   "cell_type": "markdown",
   "metadata": {}
  },
  {
   "cell_type": "code",
   "execution_count": 12,
   "metadata": {},
   "outputs": [],
   "source": [
    "def nasari_dfify(string):\n",
    "    fields = string.split('\\t')\n",
    "    identifier = tuple(fields[0].split('__'))\n",
    "    return utils.flatten([identifier, fields[1:]])"
   ]
  },
  {
   "source": [
    "recupera i sensi dai vari termini. Il formato originale è:\n",
    "\n",
    "```\n",
    "#term\n",
    "bnid1\n",
    "bnid2\n",
    "...\n",
    "#termn\n",
    "...\n",
    "```\n",
    "Quindi ho pensato di usare un dizionario, dal momento che la chiave è chiara (il termine), e i valori sono i synsetid. Per farlo, divido il contenuto del file sul carattere `'#'`, dal risultato rimuovo gli eventuali campi vuoti (`''`), il risultato viene passato a `dictify`, per ottenere una rappresentazione chiave-valore. Dopodiché il tutto viene convertito in dizionario python."
   ],
   "cell_type": "markdown",
   "metadata": {}
  },
  {
   "cell_type": "code",
   "execution_count": 13,
   "metadata": {},
   "outputs": [],
   "source": [
    "contents = open('./data/semeval17it_senses2synsets.txt', 'r').read()\n",
    "\n",
    "cts = map(\n",
    "        dictify,\n",
    "        filter(\n",
    "            lambda i: i != '' ,\n",
    "            contents.split('#')\n",
    "        )\n",
    ")\n",
    "\n",
    "semeval = dict(cts)"
   ]
  },
  {
   "source": [
    "In modo simile a quanto fatto poco sopra, si legge il contenuto del file con i vettori nasari, si divide sul carattere (`'\\n'`) per ottenere le varie linee del testo, si passa ognuna di queste linee a `'nasari_dfify'` per ottenere una rappresentazione che si presta a diventare un DataFrame, si converte e si rimuovono gli elementi vuoti (`''`)."
   ],
   "cell_type": "markdown",
   "metadata": {}
  },
  {
   "cell_type": "code",
   "execution_count": 14,
   "metadata": {
    "tags": []
   },
   "outputs": [],
   "source": [
    "nasari_cts = open('./data/mini_NASARI.tsv', 'r').read()\n",
    "nasari = pd.DataFrame([tuple(nasari_dfify(line)) for line in nasari_cts.split('\\n')])\n",
    "nasari = nasari.dropna()"
   ]
  },
  {
   "cell_type": "code",
   "execution_count": 15,
   "metadata": {},
   "outputs": [
    {
     "output_type": "execute_result",
     "data": {
      "text/plain": [
       "               0                                 1            2    \\\n",
       "0     bn:00023437n                          CPU_card  -0.06913958   \n",
       "1     bn:00050954n                           Liberty   0.15167512   \n",
       "2     bn:02123809n              German_Freedom_Party   0.08157571   \n",
       "3     bn:00007389n                          Autonomy   0.05389084   \n",
       "4     bn:16819248n  Freedom_(Jonathan_Franzen_novel)    0.0937584   \n",
       "...            ...                               ...          ...   \n",
       "4555  bn:03629355n                 Stargate_(device)   0.10437215   \n",
       "4556  bn:01528160n           Italian_submarine_Iride   0.02601548   \n",
       "4557  bn:00018096n                Chemical_substance  -0.00140006   \n",
       "4558  bn:02345076n                         Le_Cadeau  -0.00787666   \n",
       "4559  bn:01361320n                        Gift_(law)   0.04455927   \n",
       "\n",
       "              3            4            5            6            7    \\\n",
       "0     -0.06749106   0.00770207   0.12257188  -0.04002981   0.08145414   \n",
       "1     -0.01135582   0.08258358   0.27535351   -0.0413626  -0.04867816   \n",
       "2     -0.02776888  -0.00129616   0.04452392   -0.1303027  -0.11249813   \n",
       "3      -0.0789205   0.05398679   0.22686198  -0.03510364  -0.03242612   \n",
       "4     -0.03049463  -0.05153185   0.21524077    0.0005526  -0.06747429   \n",
       "...           ...          ...          ...          ...          ...   \n",
       "4555   0.05786481   0.01566665   0.04252388  -0.08804223   0.07409825   \n",
       "4556   0.14559146  -0.06802818  -0.03286261  -0.01270645  -0.04694423   \n",
       "4557   0.10361435   0.09291723   0.00541865  -0.17686922   -0.0343658   \n",
       "4558   0.09724722   0.04336747   0.10713132   0.08558352   0.05982183   \n",
       "4559  -0.00940192   0.04110022   0.09330059  -0.03063176  -0.00070777   \n",
       "\n",
       "              8            9    ...          292          293          294  \\\n",
       "0      0.02884751  -0.03814174  ...  -0.00691138   0.10257629   0.04694301   \n",
       "1      0.12733052   0.04016196  ...  -0.11470726  -0.10831937  -0.02482744   \n",
       "2      0.00266215  -0.12338018  ...  -0.11501342   0.04564969  -0.04006878   \n",
       "3      0.11709342  -0.11584815  ...  -0.18894876   0.03867937  -0.09860891   \n",
       "4      0.02467384   0.07155293  ...  -0.06150085   0.00887872  -0.16739395   \n",
       "...           ...          ...  ...          ...          ...          ...   \n",
       "4555    0.0136266  -0.10162532  ...  -0.02099106   0.07335196  -0.13164267   \n",
       "4556  -0.06491838   -0.1193463  ...  -0.01706467  -0.01599527  -0.13512072   \n",
       "4557   -0.0422839  -0.17321674  ...  -0.10855723  -0.03284013  -0.04006074   \n",
       "4558  -0.00096916  -0.15680629  ...  -0.11233576   0.03459905  -0.14523473   \n",
       "4559    0.1341207  -0.01442777  ...  -0.00892003   0.06704869  -0.07950819   \n",
       "\n",
       "              295          296          297          298          299  \\\n",
       "0       0.0665047   0.04471305  -0.12000545  -0.11998469  -0.01839009   \n",
       "1     -0.05774688  -0.05825962  -0.03152054   0.08581172  -0.03614111   \n",
       "2       0.0290099   -0.1000364   0.03304387   0.03676865   0.03205152   \n",
       "3     -0.04987623  -0.09867302   0.05695884  -0.01611297  -0.00480201   \n",
       "4      0.03010294  -0.06090382  -0.08805161   0.06766409  -0.00243878   \n",
       "...           ...          ...          ...          ...          ...   \n",
       "4555   0.03385111  -0.04264679   -0.0244316  -0.06918644    -0.027286   \n",
       "4556   0.03791645  -0.01897756  -0.10180113  -0.17562765   0.00569892   \n",
       "4557    0.0879663  -0.12378977   -0.0496634  -0.03910206   0.07541048   \n",
       "4558   0.07472088   0.08261698  -0.02326385  -0.06596823  -0.00155704   \n",
       "4559  -0.11342275   0.05790967   0.08011155  -0.05391195   -0.0622291   \n",
       "\n",
       "              300          301  \n",
       "0      -0.0928486  -0.01870047  \n",
       "1      0.06264982   0.05308474  \n",
       "2     -0.00477991   0.09019229  \n",
       "3      0.07294346   0.06635249  \n",
       "4     -0.01704794   0.01385675  \n",
       "...           ...          ...  \n",
       "4555   0.03342617   0.02678826  \n",
       "4556   0.11274927  -0.00583672  \n",
       "4557    0.1075351   -0.0093504  \n",
       "4558   -0.0383024   0.00116444  \n",
       "4559  -0.06841539  -0.07648031  \n",
       "\n",
       "[4560 rows x 302 columns]"
      ],
      "text/html": "<div>\n<style scoped>\n    .dataframe tbody tr th:only-of-type {\n        vertical-align: middle;\n    }\n\n    .dataframe tbody tr th {\n        vertical-align: top;\n    }\n\n    .dataframe thead th {\n        text-align: right;\n    }\n</style>\n<table border=\"1\" class=\"dataframe\">\n  <thead>\n    <tr style=\"text-align: right;\">\n      <th></th>\n      <th>0</th>\n      <th>1</th>\n      <th>2</th>\n      <th>3</th>\n      <th>4</th>\n      <th>5</th>\n      <th>6</th>\n      <th>7</th>\n      <th>8</th>\n      <th>9</th>\n      <th>...</th>\n      <th>292</th>\n      <th>293</th>\n      <th>294</th>\n      <th>295</th>\n      <th>296</th>\n      <th>297</th>\n      <th>298</th>\n      <th>299</th>\n      <th>300</th>\n      <th>301</th>\n    </tr>\n  </thead>\n  <tbody>\n    <tr>\n      <th>0</th>\n      <td>bn:00023437n</td>\n      <td>CPU_card</td>\n      <td>-0.06913958</td>\n      <td>-0.06749106</td>\n      <td>0.00770207</td>\n      <td>0.12257188</td>\n      <td>-0.04002981</td>\n      <td>0.08145414</td>\n      <td>0.02884751</td>\n      <td>-0.03814174</td>\n      <td>...</td>\n      <td>-0.00691138</td>\n      <td>0.10257629</td>\n      <td>0.04694301</td>\n      <td>0.0665047</td>\n      <td>0.04471305</td>\n      <td>-0.12000545</td>\n      <td>-0.11998469</td>\n      <td>-0.01839009</td>\n      <td>-0.0928486</td>\n      <td>-0.01870047</td>\n    </tr>\n    <tr>\n      <th>1</th>\n      <td>bn:00050954n</td>\n      <td>Liberty</td>\n      <td>0.15167512</td>\n      <td>-0.01135582</td>\n      <td>0.08258358</td>\n      <td>0.27535351</td>\n      <td>-0.0413626</td>\n      <td>-0.04867816</td>\n      <td>0.12733052</td>\n      <td>0.04016196</td>\n      <td>...</td>\n      <td>-0.11470726</td>\n      <td>-0.10831937</td>\n      <td>-0.02482744</td>\n      <td>-0.05774688</td>\n      <td>-0.05825962</td>\n      <td>-0.03152054</td>\n      <td>0.08581172</td>\n      <td>-0.03614111</td>\n      <td>0.06264982</td>\n      <td>0.05308474</td>\n    </tr>\n    <tr>\n      <th>2</th>\n      <td>bn:02123809n</td>\n      <td>German_Freedom_Party</td>\n      <td>0.08157571</td>\n      <td>-0.02776888</td>\n      <td>-0.00129616</td>\n      <td>0.04452392</td>\n      <td>-0.1303027</td>\n      <td>-0.11249813</td>\n      <td>0.00266215</td>\n      <td>-0.12338018</td>\n      <td>...</td>\n      <td>-0.11501342</td>\n      <td>0.04564969</td>\n      <td>-0.04006878</td>\n      <td>0.0290099</td>\n      <td>-0.1000364</td>\n      <td>0.03304387</td>\n      <td>0.03676865</td>\n      <td>0.03205152</td>\n      <td>-0.00477991</td>\n      <td>0.09019229</td>\n    </tr>\n    <tr>\n      <th>3</th>\n      <td>bn:00007389n</td>\n      <td>Autonomy</td>\n      <td>0.05389084</td>\n      <td>-0.0789205</td>\n      <td>0.05398679</td>\n      <td>0.22686198</td>\n      <td>-0.03510364</td>\n      <td>-0.03242612</td>\n      <td>0.11709342</td>\n      <td>-0.11584815</td>\n      <td>...</td>\n      <td>-0.18894876</td>\n      <td>0.03867937</td>\n      <td>-0.09860891</td>\n      <td>-0.04987623</td>\n      <td>-0.09867302</td>\n      <td>0.05695884</td>\n      <td>-0.01611297</td>\n      <td>-0.00480201</td>\n      <td>0.07294346</td>\n      <td>0.06635249</td>\n    </tr>\n    <tr>\n      <th>4</th>\n      <td>bn:16819248n</td>\n      <td>Freedom_(Jonathan_Franzen_novel)</td>\n      <td>0.0937584</td>\n      <td>-0.03049463</td>\n      <td>-0.05153185</td>\n      <td>0.21524077</td>\n      <td>0.0005526</td>\n      <td>-0.06747429</td>\n      <td>0.02467384</td>\n      <td>0.07155293</td>\n      <td>...</td>\n      <td>-0.06150085</td>\n      <td>0.00887872</td>\n      <td>-0.16739395</td>\n      <td>0.03010294</td>\n      <td>-0.06090382</td>\n      <td>-0.08805161</td>\n      <td>0.06766409</td>\n      <td>-0.00243878</td>\n      <td>-0.01704794</td>\n      <td>0.01385675</td>\n    </tr>\n    <tr>\n      <th>...</th>\n      <td>...</td>\n      <td>...</td>\n      <td>...</td>\n      <td>...</td>\n      <td>...</td>\n      <td>...</td>\n      <td>...</td>\n      <td>...</td>\n      <td>...</td>\n      <td>...</td>\n      <td>...</td>\n      <td>...</td>\n      <td>...</td>\n      <td>...</td>\n      <td>...</td>\n      <td>...</td>\n      <td>...</td>\n      <td>...</td>\n      <td>...</td>\n      <td>...</td>\n      <td>...</td>\n    </tr>\n    <tr>\n      <th>4555</th>\n      <td>bn:03629355n</td>\n      <td>Stargate_(device)</td>\n      <td>0.10437215</td>\n      <td>0.05786481</td>\n      <td>0.01566665</td>\n      <td>0.04252388</td>\n      <td>-0.08804223</td>\n      <td>0.07409825</td>\n      <td>0.0136266</td>\n      <td>-0.10162532</td>\n      <td>...</td>\n      <td>-0.02099106</td>\n      <td>0.07335196</td>\n      <td>-0.13164267</td>\n      <td>0.03385111</td>\n      <td>-0.04264679</td>\n      <td>-0.0244316</td>\n      <td>-0.06918644</td>\n      <td>-0.027286</td>\n      <td>0.03342617</td>\n      <td>0.02678826</td>\n    </tr>\n    <tr>\n      <th>4556</th>\n      <td>bn:01528160n</td>\n      <td>Italian_submarine_Iride</td>\n      <td>0.02601548</td>\n      <td>0.14559146</td>\n      <td>-0.06802818</td>\n      <td>-0.03286261</td>\n      <td>-0.01270645</td>\n      <td>-0.04694423</td>\n      <td>-0.06491838</td>\n      <td>-0.1193463</td>\n      <td>...</td>\n      <td>-0.01706467</td>\n      <td>-0.01599527</td>\n      <td>-0.13512072</td>\n      <td>0.03791645</td>\n      <td>-0.01897756</td>\n      <td>-0.10180113</td>\n      <td>-0.17562765</td>\n      <td>0.00569892</td>\n      <td>0.11274927</td>\n      <td>-0.00583672</td>\n    </tr>\n    <tr>\n      <th>4557</th>\n      <td>bn:00018096n</td>\n      <td>Chemical_substance</td>\n      <td>-0.00140006</td>\n      <td>0.10361435</td>\n      <td>0.09291723</td>\n      <td>0.00541865</td>\n      <td>-0.17686922</td>\n      <td>-0.0343658</td>\n      <td>-0.0422839</td>\n      <td>-0.17321674</td>\n      <td>...</td>\n      <td>-0.10855723</td>\n      <td>-0.03284013</td>\n      <td>-0.04006074</td>\n      <td>0.0879663</td>\n      <td>-0.12378977</td>\n      <td>-0.0496634</td>\n      <td>-0.03910206</td>\n      <td>0.07541048</td>\n      <td>0.1075351</td>\n      <td>-0.0093504</td>\n    </tr>\n    <tr>\n      <th>4558</th>\n      <td>bn:02345076n</td>\n      <td>Le_Cadeau</td>\n      <td>-0.00787666</td>\n      <td>0.09724722</td>\n      <td>0.04336747</td>\n      <td>0.10713132</td>\n      <td>0.08558352</td>\n      <td>0.05982183</td>\n      <td>-0.00096916</td>\n      <td>-0.15680629</td>\n      <td>...</td>\n      <td>-0.11233576</td>\n      <td>0.03459905</td>\n      <td>-0.14523473</td>\n      <td>0.07472088</td>\n      <td>0.08261698</td>\n      <td>-0.02326385</td>\n      <td>-0.06596823</td>\n      <td>-0.00155704</td>\n      <td>-0.0383024</td>\n      <td>0.00116444</td>\n    </tr>\n    <tr>\n      <th>4559</th>\n      <td>bn:01361320n</td>\n      <td>Gift_(law)</td>\n      <td>0.04455927</td>\n      <td>-0.00940192</td>\n      <td>0.04110022</td>\n      <td>0.09330059</td>\n      <td>-0.03063176</td>\n      <td>-0.00070777</td>\n      <td>0.1341207</td>\n      <td>-0.01442777</td>\n      <td>...</td>\n      <td>-0.00892003</td>\n      <td>0.06704869</td>\n      <td>-0.07950819</td>\n      <td>-0.11342275</td>\n      <td>0.05790967</td>\n      <td>0.08011155</td>\n      <td>-0.05391195</td>\n      <td>-0.0622291</td>\n      <td>-0.06841539</td>\n      <td>-0.07648031</td>\n    </tr>\n  </tbody>\n</table>\n<p>4560 rows × 302 columns</p>\n</div>"
     },
     "metadata": {},
     "execution_count": 15
    }
   ],
   "source": [
    "nasari"
   ]
  },
  {
   "source": [
    "La prossima funzione prende il vettore nasari corrispondente ad un babelnet synsetid, cercandolo sul DataFrame creato appena sopra."
   ],
   "cell_type": "markdown",
   "metadata": {}
  },
  {
   "cell_type": "code",
   "execution_count": 16,
   "metadata": {},
   "outputs": [],
   "source": [
    "def get_vector_for_id(bnid):\n",
    "    return np.array(nasari[nasari[0] == bnid].values[0][2:]).reshape(1, -1)"
   ]
  },
  {
   "source": [
    "La prossima funzione calcola il massimo valore di cosine similarity dati due termini. Gli viene passata una Series (Pandas) che corrisponde ad una tupla del file `./data/damato_semeval.tsv`. Quindi cerca sul dizionario `semval` costruito sopra, tutti i synsetid relativi ai due termini. Per ognuno di essi, prende da `nasari` i relativi vettori (sfruttando `get_vector_for_id`). Ne calcola la cosine similarity e la aggiunge a tutti gli score. Quando ha finito di esplorare tutte le alternative, restituisce il massimo degli score."
   ],
   "cell_type": "markdown",
   "metadata": {}
  },
  {
   "cell_type": "code",
   "execution_count": 17,
   "metadata": {},
   "outputs": [],
   "source": [
    "def get_cosine_score(series):\n",
    "    #print(series)\n",
    "    try:\n",
    "        bnidf = list(filter(lambda item: item != '', semeval[series[0]]))\n",
    "        bnids = list(filter(lambda item: item != '', semeval[series[1]]))\n",
    "        #print(bnidf, bnids)\n",
    "        combos = list(product(bnidf, bnids))\n",
    "        scores = [0]\n",
    "        for combo in combos:\n",
    "            try:\n",
    "                scores.append(cosine_similarity(get_vector_for_id(combo[0]), get_vector_for_id(combo[1]))[0][0])\n",
    "            except IndexError as e:\n",
    "                pass\n",
    "                #print(f\"Combo not found: {combo}, skipping...\")\n",
    "        return max(scores)\n",
    "    except KeyError:\n",
    "        return None"
   ]
  },
  {
   "source": [
    "La prossima funzione è una specializzazione della precedente, con l'eccezione che quando ha finito di esplorare le possibili combinazioni, trova l'indice dello score massimo, e restituisce la combinazione presente su quell'indice. (Salta un elemento perché `max` non può essere valutata su una lista vuota, dovendo avere almeno un elemento aggiungo '0'). In caso trovi errori (le combinazioni non esistono), oppure i termini non esistono sul dizionario `semeval`, restituisce `(\"N/A\", \"N/A\")`"
   ],
   "cell_type": "markdown",
   "metadata": {}
  },
  {
   "cell_type": "code",
   "execution_count": 53,
   "metadata": {},
   "outputs": [],
   "source": [
    "def get_argmax_cosine_score(series):\n",
    "    #print(series)\n",
    "    try:\n",
    "        bnidf = list(filter(lambda item: item != '', semeval[series[0]]))\n",
    "        bnids = list(filter(lambda item: item != '', semeval[series[1]]))\n",
    "        #print(bnidf, bnids)\n",
    "        combos = list(product(bnidf, bnids))\n",
    "        scores = [0]\n",
    "        for combo in combos:\n",
    "            try:\n",
    "                scores.append(cosine_similarity(get_vector_for_id(combo[0]), get_vector_for_id(combo[1]))[0][0])\n",
    "            except IndexError as e:\n",
    "                pass\n",
    "        if len(combos) > 0:\n",
    "            # -1 to account for the extra '0' in the scores\n",
    "            selectedcombo = combos[scores.index(max(scores))-1]\n",
    "            return selectedcombo[0], selectedcombo[1]\n",
    "        else:\n",
    "            return \"N/A\",\"N/A\"\n",
    "    except KeyError:\n",
    "        return \"N/A\",\"N/A\""
   ]
  },
  {
   "cell_type": "code",
   "execution_count": 61,
   "metadata": {},
   "outputs": [],
   "source": [
    "damato_semeval = pd.read_csv('./data/damato_semeval.tsv', sep='\\t')"
   ]
  },
  {
   "cell_type": "code",
   "execution_count": 55,
   "metadata": {
    "tags": []
   },
   "outputs": [],
   "source": [
    "cosim = damato_semeval.apply(lambda s: get_cosine_score(s), axis=1)"
   ]
  },
  {
   "source": [
    "Calcola le correlazioni tra gli score annotati a mano e il massimo calcolato massimizzando la cosine similarity. Sfrutta `pearsonr` e `spearmanr` da `scipy`."
   ],
   "cell_type": "markdown",
   "metadata": {}
  },
  {
   "cell_type": "code",
   "execution_count": 56,
   "metadata": {},
   "outputs": [
    {
     "output_type": "stream",
     "name": "stdout",
     "text": [
      "\u001b[92m\u001b[1mPearson Correlation: \u001b[0m\u001b[0m: 0.48035487776530833\n\u001b[92m\u001b[1mSpearman Correlation\u001b[0m\u001b[0m: 0.4754073018375166\n"
     ]
    }
   ],
   "source": [
    "print(f\"{pp.success(pp.bold('Pearson Correlation: '))}: {pearsonr(damato_semeval.score, cosim)[0]}\")\n",
    "print(f\"{pp.success(pp.bold('Spearman Correlation'))}: {spearmanr(damato_semeval.score, cosim)[0]}\")\n",
    "\n"
   ]
  },
  {
   "source": [
    "### Consegna 2: Sense Identification\n",
    "Formato dell'annotazione:  \n",
    "#Term1 Term2 BS1 BS2 Terms_in_BS1 Terms_in_BS2\n",
    "\n",
    "file: `./data/damato_semeval.tsv`"
   ],
   "cell_type": "markdown",
   "metadata": {}
  },
  {
   "source": [
    "### Consegna 2: Agreement nell'annotazione"
   ],
   "cell_type": "markdown",
   "metadata": {}
  },
  {
   "source": [
    "**NOTA**: Pandas tenta di inferire il tipo del dato quando legge un file. Questo lo porta a volte a leggere i babelnet synset id come float. Per evitare che questo accada è necessario forzarne il tipo ad essere `str`. per questo motivo, nei punti in cui sono coinvolti `damato_semeval.BS1` e `damato_semeval.BS2`, li uso come `damato_semeval.*.apply(str)`, che scorre tutto il vettore e applica `str`, ad ogni elemento, convertendolo in stringa."
   ],
   "cell_type": "markdown",
   "metadata": {}
  },
  {
   "cell_type": "code",
   "execution_count": 58,
   "metadata": {
    "tags": []
   },
   "outputs": [],
   "source": [
    "argmax = damato_semeval.apply(lambda s: get_argmax_cosine_score(s), axis=1)\n",
    "bs1, bs2 = zip(*argmax)"
   ]
  },
  {
   "cell_type": "code",
   "execution_count": 76,
   "metadata": {},
   "outputs": [
    {
     "output_type": "stream",
     "name": "stdout",
     "text": [
      "Agreement per BS1: 0.4150867285195643\nAgreement per BS2: 0.3156199677938808\n"
     ]
    }
   ],
   "source": [
    "print(f\"Agreement per BS1: {cohen_kappa_score(bs1, damato_semeval.BS1.apply(str))}\")\n",
    "print(f\"Agreement per BS2: {cohen_kappa_score(bs2, damato_semeval.BS2.apply(str))}\")"
   ]
  },
  {
   "source": [
    "### Consegna 2: Valutazione dell'annotazione"
   ],
   "cell_type": "markdown",
   "metadata": {}
  },
  {
   "source": [
    "Per calcolare l'accuratezza sulla tupla in generale, unisco le stringhe trattandole come label singole."
   ],
   "cell_type": "markdown",
   "metadata": {}
  },
  {
   "cell_type": "code",
   "execution_count": 77,
   "metadata": {},
   "outputs": [
    {
     "output_type": "stream",
     "name": "stdout",
     "text": [
      "Accuratezza su BS1: 0.42\nAccuratezza su BS2: 0.32\nAccuratezza su BS1+BS2: 0.16\n"
     ]
    }
   ],
   "source": [
    "print(f\"Accuratezza su BS1: {accuracy_score(damato_semeval.BS1.apply(str), bs1)}\")\n",
    "print(f\"Accuratezza su BS2: {accuracy_score(damato_semeval.BS2.apply(str), bs2)}\")\n",
    "damato_tuples = [item[0] + item[1] for item in zip(damato_semeval.BS1.apply(str), damato_semeval.BS2.apply(str))]\n",
    "argmax_tuples = [item[0] + item[1] for item in argmax]\n",
    "print(f\"Accuratezza su BS1+BS2: {accuracy_score(damato_tuples, argmax_tuples)}\")\n",
    "\n"
   ]
  }
 ]
}